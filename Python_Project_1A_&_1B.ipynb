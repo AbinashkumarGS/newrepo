{
 "cells": [
  {
   "cell_type": "markdown",
   "id": "dad75be5",
   "metadata": {},
   "source": [
    "## 1A: English Dictionary App"
   ]
  },
  {
   "cell_type": "code",
   "execution_count": 56,
   "id": "7882e5d8",
   "metadata": {},
   "outputs": [
    {
     "name": "stdout",
     "output_type": "stream",
     "text": [
      "Welcome to the Dictionary App\n",
      "Please select your choice\n",
      "1. Add a word\n",
      "2. Find the meaning\n",
      "3. Update the word\n",
      "4. Exit\n",
      "Enter the Choice:4\n",
      "Thank you for choosing Dictionary app\n"
     ]
    }
   ],
   "source": [
    "# using JSON module\n",
    "\n",
    "import json\n",
    "\n",
    "print('Welcome to the Dictionary App')\n",
    "print('Please select your choice')\n",
    "print('1. Add a word')\n",
    "print('2. Find the meaning')\n",
    "print('3. Update the word')\n",
    "print('4. Exit')\n",
    "\n",
    "\n",
    "f = open('words.txt','w')\n",
    "coll_words = {}\n",
    "json.dump(coll_words,f)\n",
    "f.close()\n",
    "\n",
    "while True:\n",
    "    n = int(input('Enter the Choice:'))\n",
    "    if n == 1:\n",
    "        import json\n",
    "        f = open('words.txt','w')\n",
    "        word = input('Enter a word : ')\n",
    "        meaning = input('Enter its meaning : ')\n",
    "        coll_words[word] = meaning\n",
    "        json.dump(coll_words,f)\n",
    "        f.close()\n",
    "\n",
    "    elif n == 2:\n",
    "        import json\n",
    "        f = open('words.txt','r+')\n",
    "        dic = json.load(f)\n",
    "        find = input('Enter the word to find: ')\n",
    "        if find in coll_words:\n",
    "            print('The meaning is',coll_words.get(find))\n",
    "        else:\n",
    "            print('Sorry the word is not found')\n",
    "        json.dump(coll_words,f)\n",
    "        f.close()\n",
    "    elif n == 3:\n",
    "        import json\n",
    "        f = open('words.txt','w')\n",
    "        word1 = input('Enter the word:')\n",
    "        update_meaning = input('Enter the updated meaning: ')\n",
    "        coll_words[word1] = update_meaning\n",
    "        json.dump(coll_words,f)\n",
    "        f.close()\n",
    "    elif n == 4:\n",
    "        print('Thank you for choosing Dictionary app')\n",
    "        break\n",
    "    else:\n",
    "        print('Please enter the mentioned choice')\n",
    "        print('1. Add a word')\n",
    "        print('2. Find the meaning')\n",
    "        print('3. Update the word')\n",
    "        print('4. Exit')"
   ]
  },
  {
   "cell_type": "markdown",
   "id": "485ecf65",
   "metadata": {},
   "source": [
    "## 1B - LBMS - Library Book Management System"
   ]
  },
  {
   "cell_type": "code",
   "execution_count": 66,
   "id": "77c4e3e0",
   "metadata": {},
   "outputs": [],
   "source": [
    "from tkinter import *\n",
    "import sqlite3\n",
    "import tkinter.ttk as ttk\n",
    "import tkinter.messagebox as tkMessageBox"
   ]
  },
  {
   "cell_type": "code",
   "execution_count": 67,
   "id": "1378ee5b",
   "metadata": {},
   "outputs": [
    {
     "data": {
      "text/plain": [
       "''"
      ]
     },
     "execution_count": 67,
     "metadata": {},
     "output_type": "execute_result"
    }
   ],
   "source": [
    "root = Tk()\n",
    "root.title(\"....Library Management System....\")"
   ]
  },
  {
   "cell_type": "code",
   "execution_count": 68,
   "id": "6b0bcc01",
   "metadata": {},
   "outputs": [],
   "source": [
    "# user defined methods\n",
    "\n",
    "def Database():\n",
    "    global conn,cursor\n",
    "    conn=sqlite3.connect('simple.db')\n",
    "    cursor=conn.cursor()\n",
    "    cursor.execute(\"CREATE TABLE IF NOT EXISTS book(Booktitle TEXT, Author TEXT, Year INTEGER, ISBN INTEGER )\")\n",
    "    \n",
    "    \n",
    "def Add(*kwargs):\n",
    "    if BOOKTITLE.get()=='' or AUTHOR.get()=='' or YEAR.get()=='' or ISBN.get()=='':\n",
    "        txt_result.config(text=\"Please enter all field\",fg=\"red\")\n",
    "    else:\n",
    "        Database()\n",
    "        cursor.execute(\"INSERT INTO book(Booktitle,Author,Year,ISBN) VALUES (?,?,?,?,)\",str(BOOKTITLE.get()),str(AUTHOR.get()),str(YEAR.get()),str(ISBN.get()))\n",
    "        conn.commit()\n",
    "        BOOKTITLE.set(\"\")\n",
    "        AUTHOR.set(\"\")\n",
    "        YEAR.set(\"\")\n",
    "        ISBN.set(\"\")\n",
    "        cursor.close()\n",
    "        conn.close()\n",
    "        txt_result.config(text=\"Record Inserted!\", fg=\"green\")\n",
    "        \n",
    "def Display():\n",
    "    tree.delete(*tree.get_children)\n",
    "    Database()\n",
    "    cursor.execute(\"SELECT * FROM book ORDER BY Author ASC\")\n",
    "    fetch=cursor.fetchall()\n",
    "    for data in fetch:\n",
    "        tree.insert('','end',values=(data[1],data[2],data[3],data[4]))\n",
    "    cursor.close()\n",
    "    txt_result.config(text=\"successfully fetched data \",fg=\"black\")\n",
    "\n",
    "def Exit():\n",
    "    result=tkMessageBox.askquestion('Do you want to exit ? (y/n)',icon='warning')\n",
    "    if result=='yes':\n",
    "        root.destroy()\n",
    "        exit"
   ]
  },
  {
   "cell_type": "code",
   "execution_count": 69,
   "id": "71edbba8",
   "metadata": {},
   "outputs": [],
   "source": [
    "# Variable Declaration\n",
    "\n",
    "BOOKTITLE = StringVar()\n",
    "AUTHOR = StringVar()\n",
    "YEAR = StringVar()\n",
    "ISBN = StringVar()"
   ]
  },
  {
   "cell_type": "code",
   "execution_count": 70,
   "id": "f695a9ef",
   "metadata": {},
   "outputs": [],
   "source": [
    "# Frame Widget\n",
    "\n",
    "Top=Frame(root,width=600,height=50,bd=8,relief='raise')\n",
    "Top.pack(side=TOP)\n",
    "\n",
    "Left=Frame(root,width=300,height=500,bd=8,relief='raise')\n",
    "Left.pack(side=LEFT)\n",
    "\n",
    "Right=Frame(root,width=600,height=500,bd=8,relief='raise')\n",
    "Right.pack(side=RIGHT)\n",
    "\n",
    "Forms=Frame(Left,width=300,height=450)\n",
    "Forms.pack(side=TOP)\n",
    "\n",
    "Buttons=Frame(Left,width=300,height=100,bd=8,relief='raise')\n",
    "Buttons.pack(side=BOTTOM)"
   ]
  },
  {
   "cell_type": "code",
   "execution_count": 71,
   "id": "ef4fa4e4",
   "metadata": {},
   "outputs": [],
   "source": [
    "# Label widget\n",
    "\n",
    "txt_title=Label(Top,width=900,font=('arial',24),text='....Library Book Management....')\n",
    "txt_title.pack()\n",
    "\n",
    "txt_Booktitle=Label(Forms,text='Booktitle:',font=('arial',16),bd=15)\n",
    "txt_Booktitle.grid(row=0,stick=\"e\")\n",
    "\n",
    "txt_Author=Label(Forms,text='Author:',font=('arial',16),bd=15)\n",
    "txt_Author.grid(row=1,stick=\"e\")\n",
    "\n",
    "txt_Year=Label(Forms,text='Year:',font=('arial',16),bd=15)\n",
    "txt_Year.grid(row=2,stick=\"e\")\n",
    "\n",
    "txt_ISBN=Label(Forms,text='ISBN:',font=('arial',16),bd=15)\n",
    "txt_ISBN.grid(row=3,stick=\"e\")\n",
    "\n",
    "txt_result=Label(Buttons)\n",
    "txt_result.pack(side=TOP)"
   ]
  },
  {
   "cell_type": "code",
   "execution_count": 72,
   "id": "8829e8a6",
   "metadata": {},
   "outputs": [],
   "source": [
    "# Entry widget\n",
    "\n",
    "Booktitle=Entry(Forms,textvariable=BOOKTITLE,width=30)\n",
    "Booktitle.grid(row=0,column=1)\n",
    "\n",
    "Author=Entry(Forms,textvariable=AUTHOR,width=30)\n",
    "Author.grid(row=1,column=1)\n",
    "\n",
    "Year=Entry(Forms,textvariable=YEAR,width=30)\n",
    "Year.grid(row=2,column=1)\n",
    "\n",
    "ISBN=Entry(Forms,textvariable=ISBN,width=30)\n",
    "ISBN.grid(row=3,column=1)\n"
   ]
  },
  {
   "cell_type": "code",
   "execution_count": 73,
   "id": "53bfae71",
   "metadata": {},
   "outputs": [],
   "source": [
    "# Button widget\n",
    "\n",
    "btn_Display=Button(Buttons,width=10,text='Display',command=Display)\n",
    "btn_Display.pack(side=LEFT)\n",
    "\n",
    "btn_search=Button(Buttons,width=10,text='Search',command=DISABLED)\n",
    "btn_search.pack(side=LEFT)\n",
    "\n",
    "btn_Add=Button(Buttons,width=10,text='Add',command=Add)\n",
    "btn_Add.pack(side=LEFT)\n",
    "\n",
    "btn_issue=Button(Buttons,width=10,text='Issue',command=DISABLED)\n",
    "btn_issue.pack(side=LEFT)\n",
    "\n",
    "btn_Delete=Button(Buttons,width=10,text='Delete',command=DISABLED)\n",
    "btn_Delete.pack(side=LEFT)\n",
    "\n",
    "btn_exit=Button(Buttons,width=10,text='Exit',command=Exit)\n",
    "btn_exit.pack(side=LEFT)"
   ]
  },
  {
   "cell_type": "code",
   "execution_count": 74,
   "id": "d3f8d321",
   "metadata": {},
   "outputs": [
    {
     "name": "stderr",
     "output_type": "stream",
     "text": [
      "Exception in Tkinter callback\n",
      "Traceback (most recent call last):\n",
      "  File \"C:\\Users\\Admin\\anaconda3\\lib\\tkinter\\__init__.py\", line 1892, in __call__\n",
      "    return self.func(*args)\n",
      "  File \"C:\\Users\\Admin\\AppData\\Local\\Temp\\ipykernel_5612\\1337807153.py\", line 15, in Add\n",
      "    cursor.execute(\"INSERT INTO book(Booktitle,Author,Year,ISBN) VALUES (?,?,?,?,)\",str(BOOKTITLE.get()),str(AUTHOR.get()),str(YEAR.get()),str(ISBN.get()))\n",
      "TypeError: function takes at most 2 arguments (5 given)\n"
     ]
    }
   ],
   "source": [
    "# List widget\n",
    "\n",
    "scrollbary=Scrollbar(Right,orient=VERTICAL)\n",
    "scrollbarx=Scrollbar(Right,orient=HORIZONTAL)\n",
    "\n",
    "tree=ttk.Treeview(Right,column=(\"Booktitle\",\"Author\",\"Year\",\"ISBN\"))\n",
    "\n",
    "scrollbary.config(command=tree.yview)\n",
    "scrollbary.pack(side=RIGHT,fill=Y)\n",
    "\n",
    "scrollbarx.config(command=tree.xview)\n",
    "scrollbarx.pack(side=BOTTOM,fill=X)\n",
    "\n",
    "tree.heading('Booktitle',text=\"Booktitle\",anchor=W)\n",
    "tree.heading('Author',text=\"Author\",anchor=W)\n",
    "tree.heading('Year',text=\"Year\",anchor=W)\n",
    "tree.heading('ISBN',text=\"ISBN\",anchor=W)\n",
    "\n",
    "tree.column(\"#0\",stretch=NO,minwidth=0,width=0)\n",
    "tree.column(\"#1\",stretch=NO,minwidth=0,width=80)\n",
    "tree.column(\"#2\",stretch=NO,minwidth=0,width=120)\n",
    "tree.column(\"#3\",stretch=NO,minwidth=0,width=80)\n",
    "tree.pack()\n",
    "\n",
    "\n",
    "# initialization\n",
    "\n",
    "if __name__ == '__main__':\n",
    "    root.mainloop()"
   ]
  },
  {
   "cell_type": "code",
   "execution_count": null,
   "id": "f7e52121",
   "metadata": {},
   "outputs": [],
   "source": []
  },
  {
   "cell_type": "code",
   "execution_count": null,
   "id": "39286e36",
   "metadata": {},
   "outputs": [],
   "source": []
  }
 ],
 "metadata": {
  "kernelspec": {
   "display_name": "Python 3 (ipykernel)",
   "language": "python",
   "name": "python3"
  },
  "language_info": {
   "codemirror_mode": {
    "name": "ipython",
    "version": 3
   },
   "file_extension": ".py",
   "mimetype": "text/x-python",
   "name": "python",
   "nbconvert_exporter": "python",
   "pygments_lexer": "ipython3",
   "version": "3.9.12"
  }
 },
 "nbformat": 4,
 "nbformat_minor": 5
}
